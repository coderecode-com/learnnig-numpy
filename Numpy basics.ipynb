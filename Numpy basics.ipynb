{
  "cells": [
    {
      "cell_type": "code",
      "execution_count": null,
      "id": "d4bf7e23",
      "metadata": {
        "id": "d4bf7e23"
      },
      "outputs": [],
      "source": [
        "# Cell 1: Importing Numpy\n",
        "import numpy as np"
      ]
    },
    {
      "cell_type": "markdown",
      "source": [
        "# 1. How to create Arrays"
      ],
      "metadata": {
        "id": "YSh1Cw7jdZZu"
      },
      "id": "YSh1Cw7jdZZu"
    },
    {
      "cell_type": "markdown",
      "source": [],
      "metadata": {
        "id": "R8cUuxX6dnWW"
      },
      "id": "R8cUuxX6dnWW"
    },
    {
      "cell_type": "code",
      "execution_count": null,
      "id": "b35a13a6",
      "metadata": {
        "colab": {
          "base_uri": "https://localhost:8080/"
        },
        "id": "b35a13a6",
        "outputId": "1ee95975-ae21-4814-ecd4-769145404228"
      },
      "outputs": [
        {
          "output_type": "stream",
          "name": "stdout",
          "text": [
            "<class 'int'>\n",
            "<class 'int'>\n",
            "<class 'float'>\n",
            "<class 'str'>\n"
          ]
        }
      ],
      "source": [
        "# Create list\n",
        "pl = [1, 2, 3.5, \"superman\"]\n",
        "\n",
        "print(type(pl[0]))\n",
        "print(type(pl[1]))\n",
        "print(type(pl[2]))\n",
        "print(type(pl[3]))"
      ]
    },
    {
      "cell_type": "code",
      "execution_count": null,
      "id": "c78ebe7f-6201-4d20-b66f-0ec3dcc3adc0",
      "metadata": {
        "colab": {
          "base_uri": "https://localhost:8080/"
        },
        "id": "c78ebe7f-6201-4d20-b66f-0ec3dcc3adc0",
        "outputId": "e2b52cfe-296e-4f4d-ed11-8636edeee8c2"
      },
      "outputs": [
        {
          "output_type": "stream",
          "name": "stdout",
          "text": [
            "<class 'int'>\n",
            "<class 'int'>\n",
            "<class 'int'>\n",
            "<class 'int'>\n"
          ]
        }
      ],
      "source": [
        "# list with one data type\n",
        "l = [1, 2, 3, 4, 5, 6]\n",
        "\n",
        "print(type(l[0]))\n",
        "print(type(l[1]))\n",
        "print(type(l[2]))\n",
        "print(type(l[3]))"
      ]
    },
    {
      "cell_type": "code",
      "execution_count": null,
      "id": "6198897d-b07c-4835-9667-9443d5df82de",
      "metadata": {
        "colab": {
          "base_uri": "https://localhost:8080/"
        },
        "id": "6198897d-b07c-4835-9667-9443d5df82de",
        "outputId": "e1872228-df8b-4350-91ee-aeafdba88fc1"
      },
      "outputs": [
        {
          "output_type": "execute_result",
          "data": {
            "text/plain": [
              "array([1, 2, 3, 4, 5, 6])"
            ]
          },
          "metadata": {},
          "execution_count": 4
        }
      ],
      "source": [
        "a = np.array(l)\n",
        "a"
      ]
    },
    {
      "cell_type": "markdown",
      "source": [],
      "metadata": {
        "id": "Pq1Rk-nquEbX"
      },
      "id": "Pq1Rk-nquEbX"
    },
    {
      "cell_type": "markdown",
      "source": [
        "# 2. Data Type\n",
        "- Same type\n",
        "- Type promotion\n",
        "\n",
        "**Benefit**\n",
        "- No overhead of data for each type\n",
        "- light-weight, fast\n"
      ],
      "metadata": {
        "id": "qiMBC6kEeDL1"
      },
      "id": "qiMBC6kEeDL1"
    },
    {
      "cell_type": "code",
      "source": [
        "a"
      ],
      "metadata": {
        "colab": {
          "base_uri": "https://localhost:8080/"
        },
        "id": "nX0zeIxNeZFF",
        "outputId": "4e14ba13-7410-410b-a15f-7a8b562b1b39"
      },
      "id": "nX0zeIxNeZFF",
      "execution_count": null,
      "outputs": [
        {
          "output_type": "execute_result",
          "data": {
            "text/plain": [
              "array([1, 2, 3, 4, 5, 6])"
            ]
          },
          "metadata": {},
          "execution_count": 5
        }
      ]
    },
    {
      "cell_type": "code",
      "execution_count": null,
      "id": "7f989100-4ab8-44f6-9583-28ba3de6c07d",
      "metadata": {
        "colab": {
          "base_uri": "https://localhost:8080/"
        },
        "id": "7f989100-4ab8-44f6-9583-28ba3de6c07d",
        "outputId": "bb7de863-0a74-42ac-8eda-48594c8f5c62"
      },
      "outputs": [
        {
          "output_type": "stream",
          "name": "stdout",
          "text": [
            "<class 'numpy.int64'>\n",
            "<class 'numpy.int64'>\n",
            "<class 'numpy.int64'>\n",
            "<class 'numpy.int64'>\n"
          ]
        }
      ],
      "source": [
        "print(type(a[0]))\n",
        "print(type(a[1]))\n",
        "print(type(a[2]))\n",
        "print(type(a[3]))"
      ]
    },
    {
      "cell_type": "code",
      "execution_count": null,
      "id": "bf6dc732-095d-4360-bc1d-aa38e1eecabc",
      "metadata": {
        "colab": {
          "base_uri": "https://localhost:8080/"
        },
        "id": "bf6dc732-095d-4360-bc1d-aa38e1eecabc",
        "outputId": "521764de-4716-4666-e8e3-483ec748d601"
      },
      "outputs": [
        {
          "output_type": "execute_result",
          "data": {
            "text/plain": [
              "array(['1', '2', '3.5', 'superman'], dtype='<U32')"
            ]
          },
          "metadata": {},
          "execution_count": 7
        }
      ],
      "source": [
        "np.array(pl) #<U32 - unicode string"
      ]
    },
    {
      "cell_type": "markdown",
      "id": "067e3494-e86f-4872-9694-ca74cf84b607",
      "metadata": {
        "id": "067e3494-e86f-4872-9694-ca74cf84b607"
      },
      "source": [
        "**Notes**\n",
        "\n",
        "- `<` means little endian\n",
        "  - least significant byte is stored first. simple explnation is that the last characters is stored first. So `superman` is stored as `namrepus`\n",
        "- `U` Unicode\n",
        "- `32` 32 bytes\n",
        "\n"
      ]
    },
    {
      "cell_type": "markdown",
      "id": "574cb8ed-5314-4fa6-95d3-144fc17f26df",
      "metadata": {
        "id": "574cb8ed-5314-4fa6-95d3-144fc17f26df"
      },
      "source": [
        "# 3. Attributes\n",
        "\n",
        "- size\n",
        "- len\n",
        "- shape"
      ]
    },
    {
      "cell_type": "markdown",
      "id": "2eada47a-ea71-4a0d-a80c-8d1a87a59e15",
      "metadata": {
        "id": "2eada47a-ea71-4a0d-a80c-8d1a87a59e15"
      },
      "source": []
    },
    {
      "cell_type": "code",
      "execution_count": null,
      "id": "329a2cb5-0261-43b9-a21b-3f742af1af49",
      "metadata": {
        "colab": {
          "base_uri": "https://localhost:8080/"
        },
        "id": "329a2cb5-0261-43b9-a21b-3f742af1af49",
        "outputId": "a83251cb-43a5-4f97-d1a3-74d2b631f248"
      },
      "outputs": [
        {
          "output_type": "execute_result",
          "data": {
            "text/plain": [
              "array([1, 2, 3, 4, 5, 6])"
            ]
          },
          "metadata": {},
          "execution_count": 8
        }
      ],
      "source": [
        "a"
      ]
    },
    {
      "cell_type": "code",
      "execution_count": null,
      "id": "632a2dd4-f95e-4002-94d8-9fdf0730f796",
      "metadata": {
        "colab": {
          "base_uri": "https://localhost:8080/"
        },
        "id": "632a2dd4-f95e-4002-94d8-9fdf0730f796",
        "outputId": "1bfe8116-053a-4cb3-cd87-523ec15b16a1"
      },
      "outputs": [
        {
          "output_type": "execute_result",
          "data": {
            "text/plain": [
              "6"
            ]
          },
          "metadata": {},
          "execution_count": 9
        }
      ],
      "source": [
        "a.size   # Total number of elements"
      ]
    },
    {
      "cell_type": "code",
      "execution_count": null,
      "id": "91a20dba-ecc5-4ef2-ae35-b17199236a8d",
      "metadata": {
        "colab": {
          "base_uri": "https://localhost:8080/"
        },
        "id": "91a20dba-ecc5-4ef2-ae35-b17199236a8d",
        "outputId": "1535f25f-aedb-486c-98ab-88fc435646c7"
      },
      "outputs": [
        {
          "output_type": "execute_result",
          "data": {
            "text/plain": [
              "6"
            ]
          },
          "metadata": {},
          "execution_count": 10
        }
      ],
      "source": [
        "len(a) # Avoid. See warning below"
      ]
    },
    {
      "cell_type": "markdown",
      "id": "43d9f3f7-abbd-463e-b208-b239ba708e13",
      "metadata": {
        "id": "43d9f3f7-abbd-463e-b208-b239ba708e13"
      },
      "source": [
        "WARNING  - `len` it is not same as size. len returns size of the first dimension"
      ]
    },
    {
      "cell_type": "code",
      "execution_count": null,
      "id": "ed482749-ba7f-41cd-890b-fbac4c2f385b",
      "metadata": {
        "colab": {
          "base_uri": "https://localhost:8080/"
        },
        "id": "ed482749-ba7f-41cd-890b-fbac4c2f385b",
        "outputId": "c5277380-13a6-42f6-c073-d9793b496396"
      },
      "outputs": [
        {
          "output_type": "execute_result",
          "data": {
            "text/plain": [
              "(6,)"
            ]
          },
          "metadata": {},
          "execution_count": 11
        }
      ],
      "source": [
        "a.shape"
      ]
    },
    {
      "cell_type": "code",
      "source": [],
      "metadata": {
        "id": "-a5uGg2sEell"
      },
      "id": "-a5uGg2sEell",
      "execution_count": null,
      "outputs": []
    },
    {
      "cell_type": "markdown",
      "id": "b132f413-abba-48c1-a72a-212103bdb274",
      "metadata": {
        "id": "b132f413-abba-48c1-a72a-212103bdb274"
      },
      "source": [
        "# 4. Two Dimensional Arrays a.k.a Matix"
      ]
    },
    {
      "cell_type": "markdown",
      "source": [
        "Array of arrays\n",
        "\n",
        "<pre>\n",
        "[\n",
        "  [],\n",
        "  []\n",
        "]\n",
        "</pre>"
      ],
      "metadata": {
        "id": "02610cc0-986c-435f-acfe-2f7eda003960"
      },
      "id": "02610cc0-986c-435f-acfe-2f7eda003960"
    },
    {
      "cell_type": "code",
      "source": [],
      "metadata": {
        "id": "5s5v42Ppfgt3"
      },
      "id": "5s5v42Ppfgt3",
      "execution_count": null,
      "outputs": []
    },
    {
      "cell_type": "code",
      "execution_count": null,
      "id": "7a1d6cd8-4075-4362-86ff-3e96ebb90985",
      "metadata": {
        "id": "7a1d6cd8-4075-4362-86ff-3e96ebb90985"
      },
      "outputs": [],
      "source": [
        "a_2d = np.array([\n",
        "    [1, 2, 3], # 1D array\n",
        "     [4, 5, 6] # Another 1D array\n",
        "    ])\n"
      ]
    },
    {
      "cell_type": "markdown",
      "source": [
        "![Imgur Image](https://i.imgur.com/xk5ai0V.jpg)"
      ],
      "metadata": {
        "id": "wscwK9D9uj6w"
      },
      "id": "wscwK9D9uj6w"
    },
    {
      "cell_type": "markdown",
      "source": [],
      "metadata": {
        "id": "iQlnmrEtuUv3"
      },
      "id": "iQlnmrEtuUv3"
    },
    {
      "cell_type": "code",
      "source": [
        "# Print the size, len, and shape of the array\n",
        "print(\"Size:\", a_2d.size)\n",
        "print(\"Len:\", len(a_2d))\n",
        "print(\"Shape:\", a_2d.shape)\n"
      ],
      "metadata": {
        "colab": {
          "base_uri": "https://localhost:8080/"
        },
        "id": "n8rmXtRXlEZ0",
        "outputId": "c9f2e4a6-8be6-4c97-8e04-5223f706bd44"
      },
      "id": "n8rmXtRXlEZ0",
      "execution_count": null,
      "outputs": [
        {
          "output_type": "stream",
          "name": "stdout",
          "text": [
            "Size: 6\n",
            "Len: 2\n",
            "Shape: (2, 3)\n"
          ]
        }
      ]
    },
    {
      "cell_type": "markdown",
      "source": [
        "# 5. Three Dim Array"
      ],
      "metadata": {
        "id": "0FqPJGAslc7s"
      },
      "id": "0FqPJGAslc7s"
    },
    {
      "cell_type": "code",
      "source": [
        "# 2D Array\n",
        "a_2d = np.array([\n",
        "    [1, 2, 3], # 1D array\n",
        "     [4, 5, 6] # 1 D array\n",
        "    ])\n"
      ],
      "metadata": {
        "id": "KAQMaJ-MlpR_"
      },
      "id": "KAQMaJ-MlpR_",
      "execution_count": null,
      "outputs": []
    },
    {
      "cell_type": "code",
      "source": [
        "# Another 2D array\n",
        "a2_2d = np.array([\n",
        "    [7, 8, 9], # 1D array\n",
        "     [10, 11, 12] # 1 D array\n",
        "    ])\n"
      ],
      "metadata": {
        "id": "uceQ5LWUlwqv"
      },
      "id": "uceQ5LWUlwqv",
      "execution_count": null,
      "outputs": []
    },
    {
      "cell_type": "code",
      "source": [
        " a3_2d = np.array([\n",
        "           [13,  14,  15],\n",
        "            [16, 17, 18]\n",
        "      ])"
      ],
      "metadata": {
        "id": "BsBG3XvIhXHu"
      },
      "id": "BsBG3XvIhXHu",
      "execution_count": null,
      "outputs": []
    },
    {
      "cell_type": "code",
      "execution_count": null,
      "id": "74149cd3-0c4b-42b1-b306-fc8940c710ac",
      "metadata": {
        "colab": {
          "base_uri": "https://localhost:8080/"
        },
        "id": "74149cd3-0c4b-42b1-b306-fc8940c710ac",
        "outputId": "75ab74de-a062-4d49-b7c4-b9cb303da00a"
      },
      "outputs": [
        {
          "output_type": "execute_result",
          "data": {
            "text/plain": [
              "array([[[ 1,  2,  3],\n",
              "        [ 4,  5,  6]],\n",
              "\n",
              "       [[ 7,  8,  9],\n",
              "        [10, 11, 12]],\n",
              "\n",
              "       [[13, 14, 15],\n",
              "        [16, 17, 18]]])"
            ]
          },
          "metadata": {},
          "execution_count": 17
        }
      ],
      "source": [
        "# 3D Array = Array of 2D Arrays\n",
        "np.array(\n",
        "    [a_2d, a2_2d, a3_2d]\n",
        ")\n"
      ]
    },
    {
      "cell_type": "code",
      "source": [
        "a3 = np.array(\n",
        "    [\n",
        "        [\n",
        "            [ 1,  2,  3],\n",
        "            [ 4,  5,  6]\n",
        "        ],\n",
        "\n",
        "        [\n",
        "            [7,  8,  9],\n",
        "            [10, 11, 12]\n",
        "        ],\n",
        "\n",
        "        [\n",
        "           [13, 14, 15],\n",
        "          [16, 17, 18]\n",
        "        ]\n",
        "    ])"
      ],
      "metadata": {
        "id": "YRXImkU2mKEg"
      },
      "id": "YRXImkU2mKEg",
      "execution_count": null,
      "outputs": []
    },
    {
      "cell_type": "code",
      "execution_count": null,
      "id": "aab6c8db-e579-4fbc-8161-a5dbaf4d49e8",
      "metadata": {
        "colab": {
          "base_uri": "https://localhost:8080/"
        },
        "id": "aab6c8db-e579-4fbc-8161-a5dbaf4d49e8",
        "outputId": "35d970a5-ecd4-446d-b4a1-8ad2d2afeb74"
      },
      "outputs": [
        {
          "output_type": "execute_result",
          "data": {
            "text/plain": [
              "(3, 2, 3)"
            ]
          },
          "metadata": {},
          "execution_count": 19
        }
      ],
      "source": [
        "a3.shape"
      ]
    },
    {
      "cell_type": "markdown",
      "source": [
        "![Imgur Image](https://i.imgur.com/WiIcKwN.jpg)"
      ],
      "metadata": {
        "id": "pcb5CqhO08me"
      },
      "id": "pcb5CqhO08me"
    },
    {
      "cell_type": "markdown",
      "id": "ef0f9c9d-d422-4980-b718-ba314e7dca9f",
      "metadata": {
        "id": "ef0f9c9d-d422-4980-b718-ba314e7dca9f"
      },
      "source": [
        "# Indexing"
      ]
    },
    {
      "cell_type": "code",
      "execution_count": null,
      "id": "b3ce6cf7-6f48-4f24-b758-bc1e05538574",
      "metadata": {
        "colab": {
          "base_uri": "https://localhost:8080/"
        },
        "id": "b3ce6cf7-6f48-4f24-b758-bc1e05538574",
        "outputId": "20183a15-dd46-4a56-cf6f-0403077dae0c"
      },
      "outputs": [
        {
          "output_type": "execute_result",
          "data": {
            "text/plain": [
              "array([1, 2, 3, 4, 5, 6])"
            ]
          },
          "metadata": {},
          "execution_count": 20
        }
      ],
      "source": [
        "a = np.array([1,2,3,4,5,6])\n",
        "a"
      ]
    },
    {
      "cell_type": "code",
      "execution_count": null,
      "id": "207f7459-5da9-4855-95e8-3e0de6dfd46a",
      "metadata": {
        "colab": {
          "base_uri": "https://localhost:8080/"
        },
        "id": "207f7459-5da9-4855-95e8-3e0de6dfd46a",
        "outputId": "9415913d-666d-4839-8e3e-b8b487cdda8a"
      },
      "outputs": [
        {
          "output_type": "execute_result",
          "data": {
            "text/plain": [
              "1"
            ]
          },
          "metadata": {},
          "execution_count": 21
        }
      ],
      "source": [
        "a[0]"
      ]
    },
    {
      "cell_type": "markdown",
      "id": "4bb76766-ccfb-41f2-8b3e-5a345dfeb755",
      "metadata": {
        "id": "4bb76766-ccfb-41f2-8b3e-5a345dfeb755"
      },
      "source": [
        "**Learning**: If you can get a number using only one index, it is 1D array"
      ]
    },
    {
      "cell_type": "code",
      "execution_count": null,
      "id": "7677b46a-fb19-48be-835c-6c6b67b79677",
      "metadata": {
        "colab": {
          "base_uri": "https://localhost:8080/"
        },
        "id": "7677b46a-fb19-48be-835c-6c6b67b79677",
        "outputId": "9c8da0df-836f-499a-d938-2249c6663d56"
      },
      "outputs": [
        {
          "output_type": "execute_result",
          "data": {
            "text/plain": [
              "array([[1, 2],\n",
              "       [3, 4],\n",
              "       [5, 6]])"
            ]
          },
          "metadata": {},
          "execution_count": 22
        }
      ],
      "source": [
        "a2=np.array([[1, 2], [3, 4], [5, 6]])\n",
        "a2"
      ]
    },
    {
      "cell_type": "code",
      "execution_count": null,
      "id": "a12ccd4d-4a4c-4fe6-8dc8-e887dc583530",
      "metadata": {
        "colab": {
          "base_uri": "https://localhost:8080/"
        },
        "id": "a12ccd4d-4a4c-4fe6-8dc8-e887dc583530",
        "outputId": "d0d5ecea-b645-4f86-9f2f-835578a91776"
      },
      "outputs": [
        {
          "output_type": "execute_result",
          "data": {
            "text/plain": [
              "(3, 2)"
            ]
          },
          "metadata": {},
          "execution_count": 23
        }
      ],
      "source": [
        "a2.shape"
      ]
    },
    {
      "cell_type": "code",
      "execution_count": null,
      "id": "ea749cc6-d8a5-4f0f-a48d-05d04a30ca3f",
      "metadata": {
        "colab": {
          "base_uri": "https://localhost:8080/"
        },
        "id": "ea749cc6-d8a5-4f0f-a48d-05d04a30ca3f",
        "outputId": "3f79d5d1-985d-4dd6-bad4-0b95e8a2a711"
      },
      "outputs": [
        {
          "output_type": "execute_result",
          "data": {
            "text/plain": [
              "array([1, 2])"
            ]
          },
          "metadata": {},
          "execution_count": 24
        }
      ],
      "source": [
        "a2[0]"
      ]
    },
    {
      "cell_type": "code",
      "execution_count": null,
      "id": "dbaa281a-7319-4b80-88a2-2cc1d267d020",
      "metadata": {
        "colab": {
          "base_uri": "https://localhost:8080/"
        },
        "id": "dbaa281a-7319-4b80-88a2-2cc1d267d020",
        "outputId": "96692022-0452-40f9-f2f0-83ca42726df2"
      },
      "outputs": [
        {
          "output_type": "execute_result",
          "data": {
            "text/plain": [
              "1"
            ]
          },
          "metadata": {},
          "execution_count": 25
        }
      ],
      "source": [
        "a2[0][0]"
      ]
    },
    {
      "cell_type": "markdown",
      "id": "6e2ecc49-7199-46fb-887d-886b963f30d0",
      "metadata": {
        "id": "6e2ecc49-7199-46fb-887d-886b963f30d0"
      },
      "source": [
        "**Learning**: If you can get a number using two indices, it is 2D array"
      ]
    },
    {
      "cell_type": "code",
      "execution_count": null,
      "id": "5a0b6852-e137-4353-9948-e96f05327ae6",
      "metadata": {
        "id": "5a0b6852-e137-4353-9948-e96f05327ae6",
        "outputId": "a48d487a-60be-47c3-81e4-91e450cb7b46",
        "colab": {
          "base_uri": "https://localhost:8080/"
        }
      },
      "outputs": [
        {
          "output_type": "execute_result",
          "data": {
            "text/plain": [
              "array([[1, 2, 3],\n",
              "       [4, 5, 6]])"
            ]
          },
          "metadata": {},
          "execution_count": 26
        }
      ],
      "source": [
        "a3[0]"
      ]
    },
    {
      "cell_type": "code",
      "execution_count": null,
      "id": "5747bcaa-900b-425b-b48b-144452b26fc1",
      "metadata": {
        "id": "5747bcaa-900b-425b-b48b-144452b26fc1",
        "outputId": "100213a2-e985-4b33-e2c3-30d00ad2b2ca",
        "colab": {
          "base_uri": "https://localhost:8080/"
        }
      },
      "outputs": [
        {
          "output_type": "execute_result",
          "data": {
            "text/plain": [
              "array([1, 2, 3])"
            ]
          },
          "metadata": {},
          "execution_count": 27
        }
      ],
      "source": [
        "a3[0][0]"
      ]
    },
    {
      "cell_type": "code",
      "execution_count": null,
      "id": "621417b8-8fb2-416b-ac6d-82dc30c74dcc",
      "metadata": {
        "id": "621417b8-8fb2-416b-ac6d-82dc30c74dcc",
        "outputId": "44a4b811-f174-488d-988f-043fbde0aa6b",
        "colab": {
          "base_uri": "https://localhost:8080/"
        }
      },
      "outputs": [
        {
          "output_type": "execute_result",
          "data": {
            "text/plain": [
              "1"
            ]
          },
          "metadata": {},
          "execution_count": 28
        }
      ],
      "source": [
        "a3[0][0][0]"
      ]
    },
    {
      "cell_type": "markdown",
      "source": [
        "**Learning**: If you can get a number using three indices, it is 3D array"
      ],
      "metadata": {
        "id": "gDHGWRvIie5_"
      },
      "id": "gDHGWRvIie5_"
    },
    {
      "cell_type": "markdown",
      "id": "5352c61b-7939-4c9c-82ed-46d13b4380e6",
      "metadata": {
        "id": "5352c61b-7939-4c9c-82ed-46d13b4380e6"
      },
      "source": [
        "# Functions to create Arrays"
      ]
    },
    {
      "cell_type": "markdown",
      "id": "ed322a19-8629-4755-823d-bdc812098c56",
      "metadata": {
        "id": "ed322a19-8629-4755-823d-bdc812098c56"
      },
      "source": [
        "- From lists\n",
        "- `np.zeros`\n",
        "- `np.ones`\n",
        "- `np.empty` vs `np.random`\n",
        "  -  `empty` for fast, `random` for simulation when you want some control\n",
        "- `np.arange`"
      ]
    },
    {
      "cell_type": "code",
      "execution_count": null,
      "id": "5c917fea",
      "metadata": {
        "id": "5c917fea",
        "outputId": "4cc62fc6-5e34-496f-c1a3-d28bda272cef",
        "colab": {
          "base_uri": "https://localhost:8080/"
        }
      },
      "outputs": [
        {
          "output_type": "execute_result",
          "data": {
            "text/plain": [
              "array([0., 0.])"
            ]
          },
          "metadata": {},
          "execution_count": 29
        }
      ],
      "source": [
        "np.zeros(2)"
      ]
    },
    {
      "cell_type": "code",
      "execution_count": null,
      "id": "8911b5ef-6225-49b3-bbd1-451fde2c82db",
      "metadata": {
        "id": "8911b5ef-6225-49b3-bbd1-451fde2c82db",
        "outputId": "4dc2f887-bb3d-44ba-b5d2-ffb4901db08d",
        "colab": {
          "base_uri": "https://localhost:8080/"
        }
      },
      "outputs": [
        {
          "output_type": "execute_result",
          "data": {
            "text/plain": [
              "array([[0., 0.],\n",
              "       [0., 0.]])"
            ]
          },
          "metadata": {},
          "execution_count": 30
        }
      ],
      "source": [
        "np.zeros([2,2])"
      ]
    },
    {
      "cell_type": "code",
      "execution_count": null,
      "id": "8b6052c8",
      "metadata": {
        "id": "8b6052c8",
        "colab": {
          "base_uri": "https://localhost:8080/"
        },
        "outputId": "e1ce8b9c-6c3b-4bdd-bd94-6e7819646a49"
      },
      "outputs": [
        {
          "output_type": "execute_result",
          "data": {
            "text/plain": [
              "array([10, 15, 20, 25])"
            ]
          },
          "metadata": {},
          "execution_count": 31
        }
      ],
      "source": [
        "np.arange(10, 30, 5)"
      ]
    },
    {
      "cell_type": "code",
      "source": [
        "np.linspace(0, 2, 9)"
      ],
      "metadata": {
        "colab": {
          "base_uri": "https://localhost:8080/"
        },
        "id": "3_0hu6iQ3xO3",
        "outputId": "4d975d74-e7a3-45ba-fc58-48aa8f7b51a2"
      },
      "id": "3_0hu6iQ3xO3",
      "execution_count": null,
      "outputs": [
        {
          "output_type": "execute_result",
          "data": {
            "text/plain": [
              "array([0.  , 0.25, 0.5 , 0.75, 1.  , 1.25, 1.5 , 1.75, 2.  ])"
            ]
          },
          "metadata": {},
          "execution_count": 32
        }
      ]
    }
  ],
  "metadata": {
    "kernelspec": {
      "display_name": "Python 3 (ipykernel)",
      "language": "python",
      "name": "python3"
    },
    "language_info": {
      "codemirror_mode": {
        "name": "ipython",
        "version": 3
      },
      "file_extension": ".py",
      "mimetype": "text/x-python",
      "name": "python",
      "nbconvert_exporter": "python",
      "pygments_lexer": "ipython3",
      "version": "3.9.6"
    },
    "colab": {
      "provenance": []
    }
  },
  "nbformat": 4,
  "nbformat_minor": 5
}